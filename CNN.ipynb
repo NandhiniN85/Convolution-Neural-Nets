{
  "nbformat": 4,
  "nbformat_minor": 0,
  "metadata": {
    "accelerator": "GPU",
    "colab": {
      "name": "CNN.ipynb",
      "provenance": [],
      "collapsed_sections": []
    },
    "kernelspec": {
      "display_name": "Python 3",
      "name": "python3"
    }
  },
  "cells": [
    {
      "cell_type": "code",
      "metadata": {
        "colab": {
          "base_uri": "https://localhost:8080/",
          "height": 35
        },
        "id": "89oD9mNZupHO",
        "outputId": "208d3223-b918-4e9e-a206-18d9189ea9ee"
      },
      "source": [
        "%tensorflow_version 2.x\r\n",
        "import tensorflow\r\n",
        "tensorflow.__version__"
      ],
      "execution_count": null,
      "outputs": [
        {
          "output_type": "execute_result",
          "data": {
            "application/vnd.google.colaboratory.intrinsic+json": {
              "type": "string"
            },
            "text/plain": [
              "'2.4.1'"
            ]
          },
          "metadata": {
            "tags": []
          },
          "execution_count": 1
        }
      ]
    },
    {
      "cell_type": "code",
      "metadata": {
        "id": "B50SIttGuy2q"
      },
      "source": [
        "#import random seed\r\n",
        "import random\r\n",
        "import pandas as pd\r\n",
        "import numpy as np\r\n",
        "import h5py\r\n",
        "import matplotlib.pyplot as plt\r\n",
        "import copy as copy\r\n",
        "%matplotlib inline\r\n",
        "random.seed(0)\r\n",
        "from tensorflow.keras.utils import to_categorical\r\n",
        "\r\n",
        "import warnings\r\n",
        "warnings.filterwarnings('ignore')"
      ],
      "execution_count": null,
      "outputs": []
    },
    {
      "cell_type": "code",
      "metadata": {
        "colab": {
          "base_uri": "https://localhost:8080/"
        },
        "id": "9inBGqRku0lO",
        "outputId": "61bcc41b-7f28-4ebe-ff31-03bf39a007e1"
      },
      "source": [
        "from google.colab import drive\r\n",
        "drive.mount('/content/drive')"
      ],
      "execution_count": null,
      "outputs": [
        {
          "output_type": "stream",
          "text": [
            "Mounted at /content/drive\n"
          ],
          "name": "stdout"
        }
      ]
    },
    {
      "cell_type": "code",
      "metadata": {
        "colab": {
          "base_uri": "https://localhost:8080/",
          "height": 35
        },
        "id": "vXVMVulOu6k-",
        "outputId": "312c9156-6ef3-4dc2-efa4-ed8dc7760497"
      },
      "source": [
        "import os\r\n",
        "os.chdir('/content/drive/My Drive/Convolutional Neural Nets')\r\n",
        "os.getcwd()"
      ],
      "execution_count": null,
      "outputs": [
        {
          "output_type": "execute_result",
          "data": {
            "application/vnd.google.colaboratory.intrinsic+json": {
              "type": "string"
            },
            "text/plain": [
              "'/content/drive/My Drive/Convolutional Neural Nets'"
            ]
          },
          "metadata": {
            "tags": []
          },
          "execution_count": 4
        }
      ]
    },
    {
      "cell_type": "code",
      "metadata": {
        "id": "qxzQJwDPvUMn"
      },
      "source": [
        "#open the input file as read only\r\n",
        "h5f = h5py.File('SVHN_single_grey1.h5', 'r')"
      ],
      "execution_count": null,
      "outputs": []
    },
    {
      "cell_type": "code",
      "metadata": {
        "id": "vxSgUligvao0"
      },
      "source": [
        "#load the training, test and validation set\r\n",
        "X_train = h5f['X_train'][:]\r\n",
        "y_train = h5f['y_train'][:]\r\n",
        "X_test = h5f['X_test'][:]\r\n",
        "y_test = h5f['y_test'][:]\r\n",
        "X_val = h5f['X_val'][:]\r\n",
        "y_val = h5f['y_val'][:]"
      ],
      "execution_count": null,
      "outputs": []
    },
    {
      "cell_type": "code",
      "metadata": {
        "id": "3ShX605rvh7V"
      },
      "source": [
        "#close this file\r\n",
        "h5f.close()"
      ],
      "execution_count": null,
      "outputs": []
    },
    {
      "cell_type": "code",
      "metadata": {
        "colab": {
          "base_uri": "https://localhost:8080/"
        },
        "id": "TdfAofoAvlVq",
        "outputId": "329e6947-27fd-49cf-bc0b-d0c115491a42"
      },
      "source": [
        "print('The shape of input features - training dataset :', X_train.shape)\r\n",
        "print('The shape of output target - training dataset:', y_train.shape)\r\n",
        "print('\\nThe shape of input features - test dataset:', X_test.shape)\r\n",
        "print('The shape of output target - test dataset:', y_test.shape)\r\n",
        "print('\\nThe shape of input features - validation dataset:', X_val.shape)\r\n",
        "print('The shape of output target - validation dataset:', y_val.shape)"
      ],
      "execution_count": null,
      "outputs": [
        {
          "output_type": "stream",
          "text": [
            "The shape of input features - training dataset : (42000, 32, 32)\n",
            "The shape of output target - training dataset: (42000,)\n",
            "\n",
            "The shape of input features - test dataset: (18000, 32, 32)\n",
            "The shape of output target - test dataset: (18000,)\n",
            "\n",
            "The shape of input features - validation dataset: (60000, 32, 32)\n",
            "The shape of output target - validation dataset: (60000,)\n"
          ],
          "name": "stdout"
        }
      ]
    },
    {
      "cell_type": "code",
      "metadata": {
        "colab": {
          "base_uri": "https://localhost:8080/",
          "height": 211
        },
        "id": "4palDa2Avmz2",
        "outputId": "5c171809-cd1e-422f-fb0f-fe9f159e3177"
      },
      "source": [
        "#visulaize first 5 images from the training dataset\r\n",
        "\r\n",
        "print('The target values of first 5 images in the training dataset:', y_train[0:5] )\r\n",
        "\r\n",
        "plt.figure(figsize=(15,10))\r\n",
        "for i in range(5):\r\n",
        "    plt.subplot(1,5,i+1)\r\n",
        "    plt.imshow(X_train[i])"
      ],
      "execution_count": null,
      "outputs": [
        {
          "output_type": "stream",
          "text": [
            "The target values of first 5 images in the training dataset: [2 6 7 4 4]\n"
          ],
          "name": "stdout"
        },
        {
          "output_type": "display_data",
          "data": {
            "image/png": "[encoded data removed]",
            "text/plain": [
              "<Figure size 1080x720 with 5 Axes>"
            ]
          },
          "metadata": {
            "tags": []
          }
        }
      ]
    },
    {
      "cell_type": "code",
      "metadata": {
        "colab": {
          "base_uri": "https://localhost:8080/"
        },
        "id": "6l75SH4ivpYY",
        "outputId": "7086b0c2-852b-4177-9029-952f419bc35c"
      },
      "source": [
        "#get the unique number of target output in the training dataset\r\n",
        "print('Unique values of target output:', np.unique(y_train))\r\n",
        "print('Unique count of target output:', len(np.unique(y_train)))"
      ],
      "execution_count": null,
      "outputs": [
        {
          "output_type": "stream",
          "text": [
            "Unique values of target output: [0 1 2 3 4 5 6 7 8 9]\n",
            "Unique count of target output: 10\n"
          ],
          "name": "stdout"
        }
      ]
    },
    {
      "cell_type": "code",
      "metadata": {
        "colab": {
          "base_uri": "https://localhost:8080/",
          "height": 211
        },
        "id": "0KsL6X97vy1j",
        "outputId": "0d0c92f7-f793-4c71-c61c-249e96596e66"
      },
      "source": [
        "#visulaize first 5 images from the testing dataset\r\n",
        "\r\n",
        "print('The target values of first 5 images in the testing dataset:', y_test[0:5] )\r\n",
        "\r\n",
        "plt.figure(figsize=(15,10))\r\n",
        "for i in range(5):\r\n",
        "    plt.subplot(1,5,i+1)\r\n",
        "    plt.imshow(X_test[i])"
      ],
      "execution_count": null,
      "outputs": [
        {
          "output_type": "stream",
          "text": [
            "The target values of first 5 images in the testing dataset: [1 7 2 9 0]\n"
          ],
          "name": "stdout"
        },
        {
          "output_type": "display_data",
          "data": {
            "image/png": "[encoded data removed]",
            "text/plain": [
              "<Figure size 1080x720 with 5 Axes>"
            ]
          },
          "metadata": {
            "tags": []
          }
        }
      ]
    },
    {
      "cell_type": "code",
      "metadata": {
        "colab": {
          "base_uri": "https://localhost:8080/",
          "height": 211
        },
        "id": "GEeHpYmwv06g",
        "outputId": "bee9e8c3-4027-40e8-9149-2ee38b5dbd8d"
      },
      "source": [
        "#visulaize first 5 images from the validation dataset\r\n",
        "\r\n",
        "print('The target values of first 5 images in the validation dataset:', y_val[0:5] )\r\n",
        "\r\n",
        "plt.figure(figsize=(15,10))\r\n",
        "for i in range(5):\r\n",
        "    plt.subplot(1,5,i+1)\r\n",
        "    plt.imshow(X_val[i])"
      ],
      "execution_count": null,
      "outputs": [
        {
          "output_type": "stream",
          "text": [
            "The target values of first 5 images in the validation dataset: [0 0 0 0 0]\n"
          ],
          "name": "stdout"
        },
        {
          "output_type": "display_data",
          "data": {
            "image/png": "[encoded data removed]",
            "text/plain": [
              "<Figure size 1080x720 with 5 Axes>"
            ]
          },
          "metadata": {
            "tags": []
          }
        }
      ]
    },
    {
      "cell_type": "code",
      "metadata": {
        "id": "l6me6ch2xH37"
      },
      "source": [
        "#we'll reshape the train, validation and test inputs in the format that can be fed into CNN\r\n",
        "img_rows, img_cols = 32, 32\r\n",
        "\r\n",
        "X_train = X_train.reshape(X_train.shape[0], img_rows, img_cols, 1)\r\n",
        "X_test = X_test.reshape(X_test.shape[0], img_rows, img_cols, 1)\r\n",
        "X_val = X_val.reshape(X_val.shape[0], img_rows, img_cols, 1)\r\n",
        "input_shape = (img_rows, img_cols, 1)"
      ],
      "execution_count": null,
      "outputs": []
    },
    {
      "cell_type": "code",
      "metadata": {
        "id": "FQzJDQyJypTQ"
      },
      "source": [
        "#convert the labeled y value into one-hot encoded\r\n",
        "y_train = to_categorical(y_train, num_classes=10)\r\n",
        "y_val = to_categorical(y_val, num_classes=10)\r\n",
        "y_test = to_categorical(y_test, num_classes=10)"
      ],
      "execution_count": null,
      "outputs": []
    },
    {
      "cell_type": "code",
      "metadata": {
        "id": "t4TomYtcv7Jt"
      },
      "source": [
        "from tensorflow.keras.models import Sequential\r\n",
        "from tensorflow.keras.layers import Dense, Conv2D, Flatten, BatchNormalization, MaxPool2D\r\n",
        "from tensorflow.keras import regularizers, optimizers"
      ],
      "execution_count": null,
      "outputs": []
    },
    {
      "cell_type": "code",
      "metadata": {
        "id": "hfCjSm3OwCiH"
      },
      "source": [
        "model = Sequential()\r\n",
        "\r\n",
        "model.add(Conv2D(filters=32, kernel_size=3, activation='relu', input_shape=(32,32,1)))\r\n",
        "model.add(Conv2D(filters=32, kernel_size=3, activation='relu'))\r\n",
        "model.add(Flatten())\r\n",
        "model.add(Dense(128, activation='relu'))\r\n",
        "model.add(Dense(10, activation='softmax'))\r\n",
        "\r\n",
        "adam = optimizers.Adam(lr = 0.001)\r\n",
        "\r\n",
        "model.compile(optimizer=adam, loss='categorical_crossentropy', metrics=['accuracy'])\r\n",
        "\r\n",
        "callback = tensorflow.keras.callbacks.EarlyStopping(monitor='val_accuracy', patience=2, min_delta=0.01)"
      ],
      "execution_count": null,
      "outputs": []
    },
    {
      "cell_type": "code",
      "metadata": {
        "colab": {
          "background_save": true,
          "base_uri": "https://localhost:8080/"
        },
        "id": "Mte9XnoKwhb7",
        "outputId": "f15700dc-88d6-42be-e799-e5a3439301a8"
      },
      "source": [
        "model.fit(X_train, y_train, batch_size=200, epochs=10, validation_data=(X_val, y_val), callbacks=[callback])"
      ],
      "execution_count": null,
      "outputs": [
        {
          "output_type": "stream",
          "text": [
            "Epoch 1/10\n",
            "210/210 [==============================] - 124s 585ms/step - loss: 36.5899 - accuracy: 0.1236 - val_loss: 1.5259 - val_accuracy: 0.4918\n",
            "Epoch 2/10\n",
            "210/210 [==============================] - 124s 591ms/step - loss: 1.2246 - accuracy: 0.6086 - val_loss: 0.8792 - val_accuracy: 0.7237\n",
            "Epoch 3/10\n",
            "210/210 [==============================] - 123s 588ms/step - loss: 0.8402 - accuracy: 0.7345 - val_loss: 0.7842 - val_accuracy: 0.7559\n",
            "Epoch 4/10\n",
            "210/210 [==============================] - 123s 587ms/step - loss: 0.7334 - accuracy: 0.7731 - val_loss: 0.6868 - val_accuracy: 0.7905\n",
            "Epoch 5/10\n",
            "210/210 [==============================] - 124s 589ms/step - loss: 0.6517 - accuracy: 0.7963 - val_loss: 0.6194 - val_accuracy: 0.8115\n",
            "Epoch 6/10\n",
            "210/210 [==============================] - 123s 587ms/step - loss: 0.5289 - accuracy: 0.8327 - val_loss: 0.5378 - val_accuracy: 0.8382\n",
            "Epoch 7/10\n",
            "210/210 [==============================] - 124s 589ms/step - loss: 0.4130 - accuracy: 0.8719 - val_loss: 0.4389 - val_accuracy: 0.8736\n",
            "Epoch 8/10\n",
            "210/210 [==============================] - 123s 585ms/step - loss: 0.3445 - accuracy: 0.8926 - val_loss: 0.4964 - val_accuracy: 0.8534\n",
            "Epoch 9/10\n",
            "210/210 [==============================] - 122s 579ms/step - loss: 0.3065 - accuracy: 0.9037 - val_loss: 0.3861 - val_accuracy: 0.8953\n",
            "Epoch 10/10\n",
            "210/210 [==============================] - 122s 583ms/step - loss: 0.2316 - accuracy: 0.9282 - val_loss: 0.3804 - val_accuracy: 0.9013\n"
          ],
          "name": "stdout"
        },
        {
          "output_type": "execute_result",
          "data": {
            "text/plain": [
              "<tensorflow.python.keras.callbacks.History at 0x7f4e71396d50>"
            ]
          },
          "metadata": {
            "tags": []
          },
          "execution_count": 0
        }
      ]
    },
    {
      "cell_type": "code",
      "metadata": {
        "colab": {
          "base_uri": "https://localhost:8080/"
        },
        "id": "jCDis3VMzbtR",
        "outputId": "f3612abb-2d7c-4bc7-9e60-76121ee63be5"
      },
      "source": [
        "model.evaluate(X_test, y_test)"
      ],
      "execution_count": null,
      "outputs": [
        {
          "output_type": "stream",
          "text": [
            "563/563 [==============================] - 2s 3ms/step - loss: 0.8173 - accuracy: 0.8226\n"
          ],
          "name": "stdout"
        },
        {
          "output_type": "execute_result",
          "data": {
            "text/plain": [
              "[0.8172831535339355, 0.8226110935211182]"
            ]
          },
          "metadata": {
            "tags": []
          },
          "execution_count": 41
        }
      ]
    },
    {
      "cell_type": "code",
      "metadata": {
        "id": "_xfQe6hs0EfR"
      },
      "source": [
        "#let's increase the layers to see whether there is any improvement in the accuracy score\r\n",
        "from tensorflow.keras.models import Sequential\r\n",
        "from tensorflow.keras.layers import Conv2D, Dropout, MaxPooling2D\r\n",
        "\r\n",
        "# Initialize the model\r\n",
        "model = Sequential()\r\n",
        "\r\n",
        "# Add a Convolutional Layer with 64 filters of size 3X3 and activation function as 'relu' \r\n",
        "model.add(Conv2D(filters=64, kernel_size=3, activation=\"relu\", input_shape=(32, 32, 1)))\r\n",
        "\r\n",
        "# Add a Convolutional Layer with 32 filters of size 3X3 and activation function as 'relu' \r\n",
        "model.add(Conv2D(filters=32, kernel_size=3, activation=\"relu\"))\r\n",
        "\r\n",
        "# Add a MaxPooling Layer of size 2X2 \r\n",
        "model.add(MaxPooling2D(pool_size=(2, 2)))\r\n",
        "model.add(BatchNormalization())\r\n",
        "\r\n",
        "model.add(Conv2D(70, (3, 3), activation='relu', strides=(2, 2), padding='same'))\r\n",
        "model.add(MaxPooling2D(pool_size=(2, 2), padding='valid'))\r\n",
        "model.add(BatchNormalization())\r\n",
        "\r\n",
        "# Apply Dropout with 0.2 probability \r\n",
        "model.add(Dropout(rate=0.2))\r\n",
        "\r\n",
        "# Flatten the layer\r\n",
        "model.add(Flatten())\r\n",
        "\r\n",
        "# Add Fully Connected Layer with 128 units and activation function as 'relu'\r\n",
        "model.add(Dense(128, activation=\"relu\"))\r\n",
        "\r\n",
        "#Add Fully Connected Layer with 10 units and activation function as 'softmax'\r\n",
        "model.add(Dense(10, activation=\"softmax\"))"
      ],
      "execution_count": null,
      "outputs": []
    },
    {
      "cell_type": "code",
      "metadata": {
        "colab": {
          "base_uri": "https://localhost:8080/"
        },
        "id": "l5VJg6Nd0gD-",
        "outputId": "84ea9201-3e7b-47cd-ed80-d4e779189ae7"
      },
      "source": [
        "# Compile the model\r\n",
        "model.compile(loss=\"categorical_crossentropy\", metrics=[\"accuracy\"], optimizer=\"adam\")\r\n",
        "\r\n",
        "# Use earlystopping\r\n",
        "callback = tensorflow.keras.callbacks.EarlyStopping(monitor='val_accuracy', patience=2, min_delta=0.01)\r\n",
        "\r\n",
        "# Fit the model\r\n",
        "model.fit(X_train, y_train, batch_size=200, epochs=10, validation_data=(X_test, y_test), callbacks=[callback])"
      ],
      "execution_count": null,
      "outputs": [
        {
          "output_type": "stream",
          "text": [
            "Epoch 1/10\n",
            "210/210 [==============================] - 5s 21ms/step - loss: 1.5956 - accuracy: 0.4681 - val_loss: 0.7814 - val_accuracy: 0.7559\n",
            "Epoch 2/10\n",
            "210/210 [==============================] - 4s 20ms/step - loss: 0.5417 - accuracy: 0.8340 - val_loss: 0.5607 - val_accuracy: 0.8281\n",
            "Epoch 3/10\n",
            "210/210 [==============================] - 4s 20ms/step - loss: 0.4288 - accuracy: 0.8673 - val_loss: 0.4145 - val_accuracy: 0.8763\n",
            "Epoch 4/10\n",
            "210/210 [==============================] - 4s 20ms/step - loss: 0.3763 - accuracy: 0.8826 - val_loss: 0.4197 - val_accuracy: 0.8707\n",
            "Epoch 5/10\n",
            "210/210 [==============================] - 4s 20ms/step - loss: 0.3345 - accuracy: 0.8981 - val_loss: 0.3667 - val_accuracy: 0.8927\n",
            "Epoch 6/10\n",
            "210/210 [==============================] - 4s 20ms/step - loss: 0.3018 - accuracy: 0.9060 - val_loss: 0.3678 - val_accuracy: 0.8921\n",
            "Epoch 7/10\n",
            "210/210 [==============================] - 4s 20ms/step - loss: 0.2644 - accuracy: 0.9179 - val_loss: 0.4414 - val_accuracy: 0.8697\n"
          ],
          "name": "stdout"
        },
        {
          "output_type": "execute_result",
          "data": {
            "text/plain": [
              "<tensorflow.python.keras.callbacks.History at 0x7fa04a4e3690>"
            ]
          },
          "metadata": {
            "tags": []
          },
          "execution_count": 43
        }
      ]
    },
    {
      "cell_type": "code",
      "metadata": {
        "colab": {
          "base_uri": "https://localhost:8080/"
        },
        "id": "4nqTz8zL0kOy",
        "outputId": "17806007-a0d9-432b-f5a9-65ad935295a6"
      },
      "source": [
        "model.evaluate(X_test, y_test)"
      ],
      "execution_count": null,
      "outputs": [
        {
          "output_type": "stream",
          "text": [
            "563/563 [==============================] - 2s 3ms/step - loss: 0.4414 - accuracy: 0.8697\n"
          ],
          "name": "stdout"
        },
        {
          "output_type": "execute_result",
          "data": {
            "text/plain": [
              "[0.4414233863353729, 0.8696666955947876]"
            ]
          },
          "metadata": {
            "tags": []
          },
          "execution_count": 44
        }
      ]
    },
    {
      "cell_type": "code",
      "metadata": {
        "colab": {
          "base_uri": "https://localhost:8080/",
          "height": 335
        },
        "id": "_oTzcqYY0-9h",
        "outputId": "402f0ce1-ac44-4858-f5f3-de15a3a1b20e"
      },
      "source": [
        "import matplotlib.pyplot as plt\r\n",
        "%matplotlib inline\r\n",
        "plt.imshow(X_test[16].reshape(32,32), cmap='gray')\r\n",
        "y_pred = model.predict(X_test[16].reshape(1, 32, 32, 1))\r\n",
        "print(\"Predicted label:\", y_pred.argmax())\r\n",
        "print(\"Softmax Outputs:\", y_pred)\r\n",
        "print(y_pred.sum())"
      ],
      "execution_count": null,
      "outputs": [
        {
          "output_type": "stream",
          "text": [
            "Predicted label: 8\n",
            "Softmax Outputs: [[8.9282247e-07 2.0749311e-09 4.1858240e-07 1.9314683e-05 5.9194139e-07\n",
            "  2.0698066e-07 5.4590007e-05 4.3174836e-08 9.9992347e-01 4.8059593e-07]]\n",
            "1.0\n"
          ],
          "name": "stdout"
        },
        {
          "output_type": "display_data",
          "data": {
            "image/png": "[encoded data removed]",
            "text/plain": [
              "<Figure size 432x288 with 1 Axes>"
            ]
          },
          "metadata": {
            "tags": []
          }
        }
      ]
    },
    {
      "cell_type": "code",
      "metadata": {
        "id": "oPMW8OVY1DTK"
      },
      "source": [
        ""
      ],
      "execution_count": null,
      "outputs": []
    }
  ]
}